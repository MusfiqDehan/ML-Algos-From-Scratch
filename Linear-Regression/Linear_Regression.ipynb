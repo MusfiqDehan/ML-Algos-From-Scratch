{
  "nbformat": 4,
  "nbformat_minor": 0,
  "metadata": {
    "colab": {
      "provenance": []
    },
    "kernelspec": {
      "name": "python3",
      "display_name": "Python 3"
    },
    "language_info": {
      "name": "python"
    }
  },
  "cells": [
    {
      "cell_type": "code",
      "execution_count": 12,
      "metadata": {
        "id": "MdXOHIkatJ6x"
      },
      "outputs": [],
      "source": [
        "# Imports\n",
        "import numpy as np\n",
        "import matplotlib.pyplot as plt"
      ]
    },
    {
      "cell_type": "code",
      "source": [
        "# Linear Regression Class Implementation\n",
        "class LinearRegression:\n",
        "    def fit(self, X, y):\n",
        "        n = len(X)\n",
        "        X_mean = np.mean(X)\n",
        "        y_mean = np.mean(y)\n",
        "\n",
        "        numerator = 0\n",
        "        denominator = 0\n",
        "        for i in range(n):\n",
        "            numerator += (X[i] - X_mean) * (y[i] - y_mean)\n",
        "            denominator += (X[i] - X_mean) ** 2\n",
        "\n",
        "        self.coefficient = numerator / denominator\n",
        "        self.intercept = y_mean - (self.coefficient * X_mean)\n",
        "\n",
        "    def predict(self, X):\n",
        "        return self.coefficient * X + self.intercept"
      ],
      "metadata": {
        "id": "4xR2RrS45JGI"
      },
      "execution_count": 13,
      "outputs": []
    },
    {
      "cell_type": "code",
      "source": [
        "# Example data 1\n",
        "# X = np.array([1, 2, 3, 4, 5])\n",
        "# y = np.array([2, 4, 5, 4, 5])\n",
        "\n",
        "# Example data 2\n",
        "# X = np.array([1, 2, 3, 4, 5])\n",
        "# y = np.array([2, 3, 4, 5, 6])  # Linear relationship: y = x + 1\n",
        "\n",
        "# Example data 3\n",
        "X = np.array([1, 2, 3, 4, 5])\n",
        "y = np.array([2, 3, 4, 6, 6])"
      ],
      "metadata": {
        "id": "oiek15FX5Mua"
      },
      "execution_count": 14,
      "outputs": []
    },
    {
      "cell_type": "code",
      "source": [
        "# Training the model\n",
        "model = LinearRegression()\n",
        "model.fit(X, y)"
      ],
      "metadata": {
        "id": "yh5d1OCH5P4n"
      },
      "execution_count": 15,
      "outputs": []
    },
    {
      "cell_type": "code",
      "source": [
        "# Making predictions\n",
        "y_pred = model.predict(X)"
      ],
      "metadata": {
        "id": "HOkCqXI25UXh"
      },
      "execution_count": 16,
      "outputs": []
    },
    {
      "cell_type": "code",
      "source": [
        "# Plotting the data and best fit line\n",
        "plt.scatter(X, y, color='blue')\n",
        "plt.plot(X, y_pred, color='red')\n",
        "plt.xlabel('X')\n",
        "plt.ylabel('y')\n",
        "plt.title('Linear Regression')\n",
        "plt.show()"
      ],
      "metadata": {
        "colab": {
          "base_uri": "https://localhost:8080/",
          "height": 472
        },
        "id": "5QO2EBnC5Zp5",
        "outputId": "5445c5bc-6d95-463f-f8c5-3a3ae092c8e3"
      },
      "execution_count": 17,
      "outputs": [
        {
          "output_type": "display_data",
          "data": {
            "text/plain": [
              "<Figure size 640x480 with 1 Axes>"
            ],
            "image/png": "[encoded data removed]"
          },
          "metadata": {}
        }
      ]
    }
  ]
}